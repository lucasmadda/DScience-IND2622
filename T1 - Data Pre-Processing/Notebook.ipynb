{
  "cells": [
    {
      "cell_type": "markdown",
      "source": [
        "## Preliminaries"
      ],
      "metadata": {
        "id": "cOx0f2v61f1w"
      },
      "id": "cOx0f2v61f1w"
    },
    {
      "cell_type": "markdown",
      "source": [
        "### 1. Importing Packages"
      ],
      "metadata": {
        "id": "Wta3NnnFz5_k"
      },
      "id": "Wta3NnnFz5_k"
    },
    {
      "cell_type": "code",
      "execution_count": null,
      "id": "4fe3e3ca-2ba2-494c-8be2-de6cc1a8bc74",
      "metadata": {
        "id": "4fe3e3ca-2ba2-494c-8be2-de6cc1a8bc74"
      },
      "outputs": [],
      "source": [
        "import pandas as pd\n",
        "import numpy as np\n",
        "import matplotlib.pyplot as plt\n",
        "import seaborn as sns\n",
        "%matplotlib inline"
      ]
    },
    {
      "cell_type": "markdown",
      "id": "b9005b83",
      "metadata": {
        "id": "b9005b83"
      },
      "source": [
        "### 2. Gathering Data"
      ]
    },
    {
      "cell_type": "code",
      "execution_count": null,
      "id": "ae85abd5-5424-4d84-952a-5ff1de514410",
      "metadata": {
        "id": "ae85abd5-5424-4d84-952a-5ff1de514410"
      },
      "outputs": [],
      "source": [
        "data_url = \"https://raw.githubusercontent.com/renatoquiliche/DataScience-PUCRio-FB/main/Data/DS_salarios/ds_salaries.csv\"\n",
        "data = pd.read_csv(data_url, index_col = 0)"
      ]
    },
    {
      "cell_type": "markdown",
      "source": [
        "* No need to convert to parquet dataset. The dataset is small."
      ],
      "metadata": {
        "id": "78C4eYGb2qBG"
      },
      "id": "78C4eYGb2qBG"
    },
    {
      "cell_type": "markdown",
      "source": [
        "### 3. Assessing Data"
      ],
      "metadata": {
        "id": "rWA2nC-FzrRN"
      },
      "id": "rWA2nC-FzrRN"
    },
    {
      "cell_type": "code",
      "source": [
        "data.head()"
      ],
      "metadata": {
        "colab": {
          "base_uri": "https://localhost:8080/",
          "height": 206
        },
        "id": "AaTg24bz0LwA",
        "outputId": "6a566dec-8902-46d3-bb8c-3a6b4572046a"
      },
      "id": "AaTg24bz0LwA",
      "execution_count": null,
      "outputs": [
        {
          "output_type": "execute_result",
          "data": {
            "text/plain": [
              "   work_year  work_month experience_level employment_type  \\\n",
              "0       2020           6               MI              FT   \n",
              "1       2020          11               SE              FT   \n",
              "2       2020          12               SE              FT   \n",
              "3       2020           6               MI              FT   \n",
              "4       2020          10               SE              FT   \n",
              "\n",
              "                    job_title  salary salary_currency  salary_in_usd  \\\n",
              "0              Data Scientist   70000             EUR          79833   \n",
              "1  Machine Learning Scientist  260000             USD         260000   \n",
              "2           Big Data Engineer   85000             GBP         109024   \n",
              "3        Product Data Analyst   20000             USD          20000   \n",
              "4   Machine Learning Engineer  150000             USD         150000   \n",
              "\n",
              "  employee_residence  remote_ratio company_location company_size  \n",
              "0                 DE             0               DE            L  \n",
              "1                 JP             0               JP            S  \n",
              "2                 GB            50               GB            M  \n",
              "3                 HN             0               HN            S  \n",
              "4                 US            50               US            L  "
            ],
            "text/html": [
              "\n",
              "  <div id=\"df-14b70304-2e3c-46d9-a021-a975e2aee80d\">\n",
              "    <div class=\"colab-df-container\">\n",
              "      <div>\n",
              "<style scoped>\n",
              "    .dataframe tbody tr th:only-of-type {\n",
              "        vertical-align: middle;\n",
              "    }\n",
              "\n",
              "    .dataframe tbody tr th {\n",
              "        vertical-align: top;\n",
              "    }\n",
              "\n",
              "    .dataframe thead th {\n",
              "        text-align: right;\n",
              "    }\n",
              "</style>\n",
              "<table border=\"1\" class=\"dataframe\">\n",
              "  <thead>\n",
              "    <tr style=\"text-align: right;\">\n",
              "      <th></th>\n",
              "      <th>work_year</th>\n",
              "      <th>work_month</th>\n",
              "      <th>experience_level</th>\n",
              "      <th>employment_type</th>\n",
              "      <th>job_title</th>\n",
              "      <th>salary</th>\n",
              "      <th>salary_currency</th>\n",
              "      <th>salary_in_usd</th>\n",
              "      <th>employee_residence</th>\n",
              "      <th>remote_ratio</th>\n",
              "      <th>company_location</th>\n",
              "      <th>company_size</th>\n",
              "    </tr>\n",
              "  </thead>\n",
              "  <tbody>\n",
              "    <tr>\n",
              "      <th>0</th>\n",
              "      <td>2020</td>\n",
              "      <td>6</td>\n",
              "      <td>MI</td>\n",
              "      <td>FT</td>\n",
              "      <td>Data Scientist</td>\n",
              "      <td>70000</td>\n",
              "      <td>EUR</td>\n",
              "      <td>79833</td>\n",
              "      <td>DE</td>\n",
              "      <td>0</td>\n",
              "      <td>DE</td>\n",
              "      <td>L</td>\n",
              "    </tr>\n",
              "    <tr>\n",
              "      <th>1</th>\n",
              "      <td>2020</td>\n",
              "      <td>11</td>\n",
              "      <td>SE</td>\n",
              "      <td>FT</td>\n",
              "      <td>Machine Learning Scientist</td>\n",
              "      <td>260000</td>\n",
              "      <td>USD</td>\n",
              "      <td>260000</td>\n",
              "      <td>JP</td>\n",
              "      <td>0</td>\n",
              "      <td>JP</td>\n",
              "      <td>S</td>\n",
              "    </tr>\n",
              "    <tr>\n",
              "      <th>2</th>\n",
              "      <td>2020</td>\n",
              "      <td>12</td>\n",
              "      <td>SE</td>\n",
              "      <td>FT</td>\n",
              "      <td>Big Data Engineer</td>\n",
              "      <td>85000</td>\n",
              "      <td>GBP</td>\n",
              "      <td>109024</td>\n",
              "      <td>GB</td>\n",
              "      <td>50</td>\n",
              "      <td>GB</td>\n",
              "      <td>M</td>\n",
              "    </tr>\n",
              "    <tr>\n",
              "      <th>3</th>\n",
              "      <td>2020</td>\n",
              "      <td>6</td>\n",
              "      <td>MI</td>\n",
              "      <td>FT</td>\n",
              "      <td>Product Data Analyst</td>\n",
              "      <td>20000</td>\n",
              "      <td>USD</td>\n",
              "      <td>20000</td>\n",
              "      <td>HN</td>\n",
              "      <td>0</td>\n",
              "      <td>HN</td>\n",
              "      <td>S</td>\n",
              "    </tr>\n",
              "    <tr>\n",
              "      <th>4</th>\n",
              "      <td>2020</td>\n",
              "      <td>10</td>\n",
              "      <td>SE</td>\n",
              "      <td>FT</td>\n",
              "      <td>Machine Learning Engineer</td>\n",
              "      <td>150000</td>\n",
              "      <td>USD</td>\n",
              "      <td>150000</td>\n",
              "      <td>US</td>\n",
              "      <td>50</td>\n",
              "      <td>US</td>\n",
              "      <td>L</td>\n",
              "    </tr>\n",
              "  </tbody>\n",
              "</table>\n",
              "</div>\n",
              "      <button class=\"colab-df-convert\" onclick=\"convertToInteractive('df-14b70304-2e3c-46d9-a021-a975e2aee80d')\"\n",
              "              title=\"Convert this dataframe to an interactive table.\"\n",
              "              style=\"display:none;\">\n",
              "        \n",
              "  <svg xmlns=\"http://www.w3.org/2000/svg\" height=\"24px\"viewBox=\"0 0 24 24\"\n",
              "       width=\"24px\">\n",
              "    <path d=\"M0 0h24v24H0V0z\" fill=\"none\"/>\n",
              "    <path d=\"M18.56 5.44l.94 2.06.94-2.06 2.06-.94-2.06-.94-.94-2.06-.94 2.06-2.06.94zm-11 1L8.5 8.5l.94-2.06 2.06-.94-2.06-.94L8.5 2.5l-.94 2.06-2.06.94zm10 10l.94 2.06.94-2.06 2.06-.94-2.06-.94-.94-2.06-.94 2.06-2.06.94z\"/><path d=\"M17.41 7.96l-1.37-1.37c-.4-.4-.92-.59-1.43-.59-.52 0-1.04.2-1.43.59L10.3 9.45l-7.72 7.72c-.78.78-.78 2.05 0 2.83L4 21.41c.39.39.9.59 1.41.59.51 0 1.02-.2 1.41-.59l7.78-7.78 2.81-2.81c.8-.78.8-2.07 0-2.86zM5.41 20L4 18.59l7.72-7.72 1.47 1.35L5.41 20z\"/>\n",
              "  </svg>\n",
              "      </button>\n",
              "      \n",
              "  <style>\n",
              "    .colab-df-container {\n",
              "      display:flex;\n",
              "      flex-wrap:wrap;\n",
              "      gap: 12px;\n",
              "    }\n",
              "\n",
              "    .colab-df-convert {\n",
              "      background-color: #E8F0FE;\n",
              "      border: none;\n",
              "      border-radius: 50%;\n",
              "      cursor: pointer;\n",
              "      display: none;\n",
              "      fill: #1967D2;\n",
              "      height: 32px;\n",
              "      padding: 0 0 0 0;\n",
              "      width: 32px;\n",
              "    }\n",
              "\n",
              "    .colab-df-convert:hover {\n",
              "      background-color: #E2EBFA;\n",
              "      box-shadow: 0px 1px 2px rgba(60, 64, 67, 0.3), 0px 1px 3px 1px rgba(60, 64, 67, 0.15);\n",
              "      fill: #174EA6;\n",
              "    }\n",
              "\n",
              "    [theme=dark] .colab-df-convert {\n",
              "      background-color: #3B4455;\n",
              "      fill: #D2E3FC;\n",
              "    }\n",
              "\n",
              "    [theme=dark] .colab-df-convert:hover {\n",
              "      background-color: #434B5C;\n",
              "      box-shadow: 0px 1px 3px 1px rgba(0, 0, 0, 0.15);\n",
              "      filter: drop-shadow(0px 1px 2px rgba(0, 0, 0, 0.3));\n",
              "      fill: #FFFFFF;\n",
              "    }\n",
              "  </style>\n",
              "\n",
              "      <script>\n",
              "        const buttonEl =\n",
              "          document.querySelector('#df-14b70304-2e3c-46d9-a021-a975e2aee80d button.colab-df-convert');\n",
              "        buttonEl.style.display =\n",
              "          google.colab.kernel.accessAllowed ? 'block' : 'none';\n",
              "\n",
              "        async function convertToInteractive(key) {\n",
              "          const element = document.querySelector('#df-14b70304-2e3c-46d9-a021-a975e2aee80d');\n",
              "          const dataTable =\n",
              "            await google.colab.kernel.invokeFunction('convertToInteractive',\n",
              "                                                     [key], {});\n",
              "          if (!dataTable) return;\n",
              "\n",
              "          const docLinkHtml = 'Like what you see? Visit the ' +\n",
              "            '<a target=\"_blank\" href=https://colab.research.google.com/notebooks/data_table.ipynb>data table notebook</a>'\n",
              "            + ' to learn more about interactive tables.';\n",
              "          element.innerHTML = '';\n",
              "          dataTable['output_type'] = 'display_data';\n",
              "          await google.colab.output.renderOutput(dataTable, element);\n",
              "          const docLink = document.createElement('div');\n",
              "          docLink.innerHTML = docLinkHtml;\n",
              "          element.appendChild(docLink);\n",
              "        }\n",
              "      </script>\n",
              "    </div>\n",
              "  </div>\n",
              "  "
            ]
          },
          "metadata": {},
          "execution_count": 6
        }
      ]
    },
    {
      "cell_type": "code",
      "source": [
        "print(\"The number of rows are {} and columns are {}\".format(data.shape[0], data.shape[1]))"
      ],
      "metadata": {
        "colab": {
          "base_uri": "https://localhost:8080/"
        },
        "id": "V8Ytl3Ql0SA1",
        "outputId": "542577f3-89f7-47e6-e72a-80d2776c07e9"
      },
      "id": "V8Ytl3Ql0SA1",
      "execution_count": null,
      "outputs": [
        {
          "output_type": "stream",
          "name": "stdout",
          "text": [
            "The number of rows are 607 and columns are 12\n"
          ]
        }
      ]
    },
    {
      "cell_type": "code",
      "source": [
        "# List columns\n",
        "data.columns"
      ],
      "metadata": {
        "colab": {
          "base_uri": "https://localhost:8080/"
        },
        "id": "1FJLOanp0p5l",
        "outputId": "33a6bf15-09be-4f92-edcc-192dd4003cea"
      },
      "id": "1FJLOanp0p5l",
      "execution_count": null,
      "outputs": [
        {
          "output_type": "execute_result",
          "data": {
            "text/plain": [
              "Index(['work_year', 'work_month', 'experience_level', 'employment_type',\n",
              "       'job_title', 'salary', 'salary_currency', 'salary_in_usd',\n",
              "       'employee_residence', 'remote_ratio', 'company_location',\n",
              "       'company_size'],\n",
              "      dtype='object')"
            ]
          },
          "metadata": {},
          "execution_count": 10
        }
      ]
    },
    {
      "cell_type": "code",
      "source": [
        "# Look for missing data\n",
        "data.info()"
      ],
      "metadata": {
        "colab": {
          "base_uri": "https://localhost:8080/"
        },
        "id": "ddzk_SLV0zmz",
        "outputId": "ba7db096-2818-408f-f7a5-c72e078ad5ba"
      },
      "id": "ddzk_SLV0zmz",
      "execution_count": null,
      "outputs": [
        {
          "output_type": "stream",
          "name": "stdout",
          "text": [
            "<class 'pandas.core.frame.DataFrame'>\n",
            "Int64Index: 607 entries, 0 to 606\n",
            "Data columns (total 12 columns):\n",
            " #   Column              Non-Null Count  Dtype \n",
            "---  ------              --------------  ----- \n",
            " 0   work_year           607 non-null    int64 \n",
            " 1   work_month          607 non-null    int64 \n",
            " 2   experience_level    607 non-null    object\n",
            " 3   employment_type     607 non-null    object\n",
            " 4   job_title           607 non-null    object\n",
            " 5   salary              607 non-null    int64 \n",
            " 6   salary_currency     607 non-null    object\n",
            " 7   salary_in_usd       607 non-null    int64 \n",
            " 8   employee_residence  607 non-null    object\n",
            " 9   remote_ratio        607 non-null    int64 \n",
            " 10  company_location    607 non-null    object\n",
            " 11  company_size        607 non-null    object\n",
            "dtypes: int64(5), object(7)\n",
            "memory usage: 61.6+ KB\n"
          ]
        }
      ]
    },
    {
      "cell_type": "markdown",
      "source": [
        "* There are no missing values."
      ],
      "metadata": {
        "id": "S1c2zQf81DBC"
      },
      "id": "S1c2zQf81DBC"
    },
    {
      "cell_type": "code",
      "source": [
        "data.hist(column=[\"salary_in_usd\"],figsize = (10,8))"
      ],
      "metadata": {
        "colab": {
          "base_uri": "https://localhost:8080/",
          "height": 534
        },
        "id": "Tgcj9CF47Nmn",
        "outputId": "a4b131ce-a0fd-4d2b-d1e4-0ef2001d9f0d"
      },
      "id": "Tgcj9CF47Nmn",
      "execution_count": null,
      "outputs": [
        {
          "output_type": "execute_result",
          "data": {
            "text/plain": [
              "array([[<matplotlib.axes._subplots.AxesSubplot object at 0x7f627c9490d0>]],\n",
              "      dtype=object)"
            ]
          },
          "metadata": {},
          "execution_count": 26
        },
        {
          "output_type": "display_data",
          "data": {
            "text/plain": [
              "<Figure size 720x576 with 1 Axes>"
            ],
            "image/png": "[encoded data removed]"
          },
          "metadata": {
            "needs_background": "light"
          }
        }
      ]
    },
    {
      "cell_type": "markdown",
      "source": [
        "## Pre-processing"
      ],
      "metadata": {
        "id": "de9San3n1rQS"
      },
      "id": "de9San3n1rQS"
    },
    {
      "cell_type": "markdown",
      "id": "3332d93b",
      "metadata": {
        "id": "3332d93b"
      },
      "source": [
        "### 1. Resampling Data, estimating variable mean and value frequency via Bootsrapping"
      ]
    },
    {
      "cell_type": "markdown",
      "id": "5f621eee",
      "metadata": {
        "id": "5f621eee"
      },
      "source": [
        "##### 1.1 Bootstrapping function"
      ]
    },
    {
      "cell_type": "code",
      "execution_count": null,
      "id": "c2d760cc-dd57-4b55-977c-93039c219b0d",
      "metadata": {
        "id": "c2d760cc-dd57-4b55-977c-93039c219b0d"
      },
      "outputs": [],
      "source": [
        "def mean_bootstrap(series, B = 10000):\n",
        "    return pd.Series([series.sample(n = len(series), replace = True).mean() for i in range(B)])\n",
        "\n",
        "def frequency_bootstrap(series, value, B = 10000):\n",
        "    \n",
        "    T = pd.Series(data = 0, index = range(B))\n",
        "\n",
        "    for i in range(B):\n",
        "        \n",
        "        sample = series.sample(n = len(series), replace = True)\n",
        "        T_i = len(sample[sample == value])/len(series)\n",
        "        T.loc[i] = T_i\n",
        "\n",
        "    return T"
      ]
    },
    {
      "cell_type": "markdown",
      "id": "50d7ab74",
      "metadata": {
        "id": "50d7ab74"
      },
      "source": [
        "##### 1.2 Mean Estimation"
      ]
    },
    {
      "cell_type": "code",
      "execution_count": null,
      "id": "aa7e75c5",
      "metadata": {
        "id": "aa7e75c5",
        "outputId": "7c81a431-a544-451c-c3d1-85de0925a798",
        "colab": {
          "base_uri": "https://localhost:8080/",
          "height": 499
        }
      },
      "outputs": [
        {
          "output_type": "display_data",
          "data": {
            "text/plain": [
              "<Figure size 720x576 with 1 Axes>"
            ],
            "image/png": "[encoded data removed]"
          },
          "metadata": {
            "needs_background": "light"
          }
        }
      ],
      "source": [
        "frequency = mean_bootstrap(data.salary,100000)\n",
        "\n",
        "fig,ax = plt.subplots(figsize = (10,8))\n",
        "\n",
        "\n",
        "ax.set_title('resample mean histogram')\n",
        "ax.axvline(data.salary.mean(), color = 'red', label = 'data original sample mean - µ = %.2f'%data.salary.mean())\n",
        "ax.axvline(frequency.mean(), label = 'mean of resample means - θ_hat = %.2f'%frequency.mean(), color = 'orange',linestyle = 'dashed')\n",
        "ax.axvline(frequency.quantile(q=0.025),label = 'UB IC 95 percent for θ = %.2f'%frequency.quantile(q=0.025), color = 'red', linestyle = 'dashed')\n",
        "ax.axvline(frequency.quantile(q=0.975), label = 'LB IC 95 percent for θ = %.2f'%frequency.quantile(q=0.975), color = 'red', linestyle = 'dashed')\n",
        "ax.hist(frequency, bins = 75, edgecolor = 'white', alpha = 0.8)\n",
        "ax.legend()\n",
        "\n",
        "plt.show()"
      ]
    },
    {
      "cell_type": "markdown",
      "id": "87051df0-65a9-4f22-ad28-2a13849f6873",
      "metadata": {
        "id": "87051df0-65a9-4f22-ad28-2a13849f6873"
      },
      "source": [
        "##### 1.3 Frequency Estimation"
      ]
    },
    {
      "cell_type": "code",
      "execution_count": null,
      "id": "96c7c12d",
      "metadata": {
        "id": "96c7c12d",
        "outputId": "8f924979-cdac-4a74-92a1-a2ba8dc5e8c9",
        "colab": {
          "base_uri": "https://localhost:8080/",
          "height": 499
        }
      },
      "outputs": [
        {
          "output_type": "display_data",
          "data": {
            "text/plain": [
              "<Figure size 720x576 with 1 Axes>"
            ],
            "image/png": "[encoded data removed]"
          },
          "metadata": {
            "needs_background": "light"
          }
        }
      ],
      "source": [
        "value = 'USD'\n",
        "frequency = frequency_bootstrap(data.salary_currency, value, 500000)\n",
        "frq_original_sample = len(data[data.salary_currency == value]) / len(data)\n",
        "\n",
        "fig,ax = plt.subplots(figsize = (10,8))\n",
        "\n",
        "ax.set_title('resample %s frequency histogram'%value)\n",
        "ax.hist(frequency, bins = 50, edgecolor = 'white', alpha = 0.8)\n",
        "ax.axvline(frq_original_sample, color = 'red', label = '%s frequency on original sample = %.4f'%(value, frq_original_sample))\n",
        "ax.axvline(frequency.mean(), label = 'mean of resample frequency - θ_hat = %.4f'%frequency.mean(), color = 'orange',linestyle = 'dashed')\n",
        "ax.axvline(frequency.quantile(q=0.025),label = 'UB IC 95 percent for θ = %.4f'%frequency.quantile(q=0.025), color = 'red', linestyle = 'dashed')\n",
        "ax.axvline(frequency.quantile(q=0.975), label = 'LB IC 95 percent for θ = %.4f'%frequency.quantile(q=0.975), color = 'red', linestyle = 'dashed')\n",
        "ax.legend()\n",
        "\n",
        "plt.show()"
      ]
    },
    {
      "cell_type": "markdown",
      "id": "b6bb1ede",
      "metadata": {
        "id": "b6bb1ede"
      },
      "source": [
        "### 2. Quantile Discretization"
      ]
    },
    {
      "cell_type": "code",
      "execution_count": null,
      "id": "63638f77",
      "metadata": {
        "id": "63638f77",
        "outputId": "135608a0-8f2f-4d30-94b1-4cf909971c1d"
      },
      "outputs": [
        {
          "data": {
            "text/html": [
              "<div>\n",
              "<style scoped>\n",
              "    .dataframe tbody tr th:only-of-type {\n",
              "        vertical-align: middle;\n",
              "    }\n",
              "\n",
              "    .dataframe tbody tr th {\n",
              "        vertical-align: top;\n",
              "    }\n",
              "\n",
              "    .dataframe thead th {\n",
              "        text-align: right;\n",
              "    }\n",
              "</style>\n",
              "<table border=\"1\" class=\"dataframe\">\n",
              "  <thead>\n",
              "    <tr style=\"text-align: right;\">\n",
              "      <th></th>\n",
              "      <th>salary</th>\n",
              "      <th>salary_discretized</th>\n",
              "    </tr>\n",
              "  </thead>\n",
              "  <tbody>\n",
              "    <tr>\n",
              "      <th>0</th>\n",
              "      <td>70000</td>\n",
              "      <td>(60000.0, 80000.0]</td>\n",
              "    </tr>\n",
              "    <tr>\n",
              "      <th>1</th>\n",
              "      <td>260000</td>\n",
              "      <td>(237000.0, 30400000.0]</td>\n",
              "    </tr>\n",
              "    <tr>\n",
              "      <th>2</th>\n",
              "      <td>85000</td>\n",
              "      <td>(80000.0, 99020.0]</td>\n",
              "    </tr>\n",
              "    <tr>\n",
              "      <th>3</th>\n",
              "      <td>20000</td>\n",
              "      <td>(3999.999, 42720.0]</td>\n",
              "    </tr>\n",
              "    <tr>\n",
              "      <th>4</th>\n",
              "      <td>150000</td>\n",
              "      <td>(133928.0, 152600.0]</td>\n",
              "    </tr>\n",
              "    <tr>\n",
              "      <th>...</th>\n",
              "      <td>...</td>\n",
              "      <td>...</td>\n",
              "    </tr>\n",
              "    <tr>\n",
              "      <th>602</th>\n",
              "      <td>154000</td>\n",
              "      <td>(152600.0, 180000.0]</td>\n",
              "    </tr>\n",
              "    <tr>\n",
              "      <th>603</th>\n",
              "      <td>126000</td>\n",
              "      <td>(115000.0, 133928.0]</td>\n",
              "    </tr>\n",
              "    <tr>\n",
              "      <th>604</th>\n",
              "      <td>129000</td>\n",
              "      <td>(115000.0, 133928.0]</td>\n",
              "    </tr>\n",
              "    <tr>\n",
              "      <th>605</th>\n",
              "      <td>150000</td>\n",
              "      <td>(133928.0, 152600.0]</td>\n",
              "    </tr>\n",
              "    <tr>\n",
              "      <th>606</th>\n",
              "      <td>200000</td>\n",
              "      <td>(180000.0, 237000.0]</td>\n",
              "    </tr>\n",
              "  </tbody>\n",
              "</table>\n",
              "<p>607 rows × 2 columns</p>\n",
              "</div>"
            ],
            "text/plain": [
              "     salary      salary_discretized\n",
              "0     70000      (60000.0, 80000.0]\n",
              "1    260000  (237000.0, 30400000.0]\n",
              "2     85000      (80000.0, 99020.0]\n",
              "3     20000     (3999.999, 42720.0]\n",
              "4    150000    (133928.0, 152600.0]\n",
              "..      ...                     ...\n",
              "602  154000    (152600.0, 180000.0]\n",
              "603  126000    (115000.0, 133928.0]\n",
              "604  129000    (115000.0, 133928.0]\n",
              "605  150000    (133928.0, 152600.0]\n",
              "606  200000    (180000.0, 237000.0]\n",
              "\n",
              "[607 rows x 2 columns]"
            ]
          },
          "execution_count": 6,
          "metadata": {},
          "output_type": "execute_result"
        }
      ],
      "source": [
        "data['salary_discretized'] = pd.qcut(data.salary,10)\n",
        "data[['salary','salary_discretized']]"
      ]
    },
    {
      "cell_type": "markdown",
      "id": "3204e6f6",
      "metadata": {
        "id": "3204e6f6"
      },
      "source": [
        "### 3. Feature Engineering"
      ]
    },
    {
      "cell_type": "code",
      "execution_count": null,
      "id": "3fb2d261",
      "metadata": {
        "id": "3fb2d261",
        "outputId": "12b33f3b-8dbd-4ce7-91c7-35a65293f0f7"
      },
      "outputs": [
        {
          "data": {
            "text/html": [
              "<div>\n",
              "<style scoped>\n",
              "    .dataframe tbody tr th:only-of-type {\n",
              "        vertical-align: middle;\n",
              "    }\n",
              "\n",
              "    .dataframe tbody tr th {\n",
              "        vertical-align: top;\n",
              "    }\n",
              "\n",
              "    .dataframe thead th {\n",
              "        text-align: right;\n",
              "    }\n",
              "</style>\n",
              "<table border=\"1\" class=\"dataframe\">\n",
              "  <thead>\n",
              "    <tr style=\"text-align: right;\">\n",
              "      <th></th>\n",
              "      <th>work_year</th>\n",
              "      <th>work_month</th>\n",
              "      <th>remote_ratio</th>\n",
              "      <th>working_days_count</th>\n",
              "      <th>remote_work_days_count</th>\n",
              "    </tr>\n",
              "  </thead>\n",
              "  <tbody>\n",
              "    <tr>\n",
              "      <th>0</th>\n",
              "      <td>2020</td>\n",
              "      <td>6</td>\n",
              "      <td>0</td>\n",
              "      <td>943 days</td>\n",
              "      <td>0 days 00:00:00</td>\n",
              "    </tr>\n",
              "    <tr>\n",
              "      <th>1</th>\n",
              "      <td>2020</td>\n",
              "      <td>11</td>\n",
              "      <td>0</td>\n",
              "      <td>790 days</td>\n",
              "      <td>0 days 00:00:00</td>\n",
              "    </tr>\n",
              "    <tr>\n",
              "      <th>2</th>\n",
              "      <td>2020</td>\n",
              "      <td>12</td>\n",
              "      <td>50</td>\n",
              "      <td>760 days</td>\n",
              "      <td>84 days 10:40:00</td>\n",
              "    </tr>\n",
              "    <tr>\n",
              "      <th>3</th>\n",
              "      <td>2020</td>\n",
              "      <td>6</td>\n",
              "      <td>0</td>\n",
              "      <td>943 days</td>\n",
              "      <td>0 days 00:00:00</td>\n",
              "    </tr>\n",
              "    <tr>\n",
              "      <th>4</th>\n",
              "      <td>2020</td>\n",
              "      <td>10</td>\n",
              "      <td>50</td>\n",
              "      <td>821 days</td>\n",
              "      <td>91 days 05:20:00</td>\n",
              "    </tr>\n",
              "    <tr>\n",
              "      <th>...</th>\n",
              "      <td>...</td>\n",
              "      <td>...</td>\n",
              "      <td>...</td>\n",
              "      <td>...</td>\n",
              "      <td>...</td>\n",
              "    </tr>\n",
              "    <tr>\n",
              "      <th>602</th>\n",
              "      <td>2022</td>\n",
              "      <td>5</td>\n",
              "      <td>100</td>\n",
              "      <td>244 days</td>\n",
              "      <td>54 days 05:20:00</td>\n",
              "    </tr>\n",
              "    <tr>\n",
              "      <th>603</th>\n",
              "      <td>2022</td>\n",
              "      <td>6</td>\n",
              "      <td>100</td>\n",
              "      <td>213 days</td>\n",
              "      <td>47 days 08:00:00</td>\n",
              "    </tr>\n",
              "    <tr>\n",
              "      <th>604</th>\n",
              "      <td>2022</td>\n",
              "      <td>11</td>\n",
              "      <td>0</td>\n",
              "      <td>60 days</td>\n",
              "      <td>0 days 00:00:00</td>\n",
              "    </tr>\n",
              "    <tr>\n",
              "      <th>605</th>\n",
              "      <td>2022</td>\n",
              "      <td>2</td>\n",
              "      <td>100</td>\n",
              "      <td>333 days</td>\n",
              "      <td>74 days 00:00:00</td>\n",
              "    </tr>\n",
              "    <tr>\n",
              "      <th>606</th>\n",
              "      <td>2022</td>\n",
              "      <td>3</td>\n",
              "      <td>100</td>\n",
              "      <td>305 days</td>\n",
              "      <td>67 days 18:40:00</td>\n",
              "    </tr>\n",
              "  </tbody>\n",
              "</table>\n",
              "<p>607 rows × 5 columns</p>\n",
              "</div>"
            ],
            "text/plain": [
              "     work_year  work_month  remote_ratio working_days_count  \\\n",
              "0         2020           6             0           943 days   \n",
              "1         2020          11             0           790 days   \n",
              "2         2020          12            50           760 days   \n",
              "3         2020           6             0           943 days   \n",
              "4         2020          10            50           821 days   \n",
              "..         ...         ...           ...                ...   \n",
              "602       2022           5           100           244 days   \n",
              "603       2022           6           100           213 days   \n",
              "604       2022          11             0            60 days   \n",
              "605       2022           2           100           333 days   \n",
              "606       2022           3           100           305 days   \n",
              "\n",
              "    remote_work_days_count  \n",
              "0          0 days 00:00:00  \n",
              "1          0 days 00:00:00  \n",
              "2         84 days 10:40:00  \n",
              "3          0 days 00:00:00  \n",
              "4         91 days 05:20:00  \n",
              "..                     ...  \n",
              "602       54 days 05:20:00  \n",
              "603       47 days 08:00:00  \n",
              "604        0 days 00:00:00  \n",
              "605       74 days 00:00:00  \n",
              "606       67 days 18:40:00  \n",
              "\n",
              "[607 rows x 5 columns]"
            ]
          },
          "execution_count": 7,
          "metadata": {},
          "output_type": "execute_result"
        }
      ],
      "source": [
        "data['working_days_count'] = pd.to_datetime(\"2022-12-31\") - pd.to_datetime(data.work_year.map(str) + '-' + data.work_month.map(str)) #suppose today is 2022/12/31\n",
        "data['remote_work_days_count'] = data.remote_ratio/100 * data['working_days_count'] * 8/24 * 20/30 #suppose 8 hours of work a day, 20 days of work each month\n",
        "data[['work_year', 'work_month', 'remote_ratio', 'working_days_count', 'remote_work_days_count']]"
      ]
    },
    {
      "cell_type": "markdown",
      "id": "3adf04ad",
      "metadata": {
        "id": "3adf04ad"
      },
      "source": []
    }
  ],
  "metadata": {
    "kernelspec": {
      "display_name": "Python 3.9.13 64-bit",
      "language": "python",
      "name": "python3"
    },
    "language_info": {
      "codemirror_mode": {
        "name": "ipython",
        "version": 3
      },
      "file_extension": ".py",
      "mimetype": "text/x-python",
      "name": "python",
      "nbconvert_exporter": "python",
      "pygments_lexer": "ipython3",
      "version": "3.9.13"
    },
    "vscode": {
      "interpreter": {
        "hash": "b443154265002040221aa76392d8d67f0a943ba0393075094dd1cf7f7808809b"
      }
    },
    "colab": {
      "provenance": [],
      "collapsed_sections": []
    }
  },
  "nbformat": 4,
  "nbformat_minor": 5
}